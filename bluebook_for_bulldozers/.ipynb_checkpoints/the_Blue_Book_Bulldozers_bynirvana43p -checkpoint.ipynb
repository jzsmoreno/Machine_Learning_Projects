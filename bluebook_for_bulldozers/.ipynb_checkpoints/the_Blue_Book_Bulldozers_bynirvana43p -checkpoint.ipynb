{
 "cells": [
  {
   "cell_type": "markdown",
   "metadata": {},
   "source": [
    "# The Blue Book Bulldozers Dataset-problem (2012 kaggle) By nirvana43p"
   ]
  },
  {
   "cell_type": "markdown",
   "metadata": {},
   "source": [
    "This notebook is about the Blue Book Bulldozers Dataset-problem (2012 kaggle) competition.\n",
    "\n",
    "Description: \n",
    "    - The Blue Book Bulldozers Dataset is a tabular data of bulldozers sold at auctions.\n",
    "    - The objective of the competition was to predicting the sale price of bulldozers.\n",
    "\n",
    "The whole information is founded in: https://www.kaggle.com/c/bluebook-for-bulldozers\n",
    "\n",
    "This work  is a replication and modification from the chapter 9 of the book \"deep learning for coders with fastai and pytorch\" (without using fastai library). \n",
    "The dataset we will use is TrainAndValid.csv that would be will be in data folder\n",
    "\n",
    "@author: Jorge Ivan Avalos Lopez\n",
    "- python: 3.8.3\n",
    "- pytorch: 1.6.0\n",
    "- sklearn: 0.23.1"
   ]
  },
  {
   "cell_type": "code",
   "execution_count": 6,
   "metadata": {},
   "outputs": [],
   "source": [
    "import pandas as pd\n",
    "import numpy as np\n",
    "import shelve\n",
    "\n",
    "dataPath = \"./data/\""
   ]
  },
  {
   "cell_type": "code",
   "execution_count": 8,
   "metadata": {},
   "outputs": [],
   "source": [
    "\"\"\" Function to split the time object in pandas\n",
    "        Args: \n",
    "            df (DataFrame) : DataFrame\n",
    "            column : Column to split\n",
    "\"\"\"\n",
    "def dateSplitTime(df,column):\n",
    "    # Convert the column to dateTime object\n",
    "    df[column] = pd.to_datetime(df[column])\n",
    "    column_lower = column.lower()\n",
    "    df.rename(columns={column:column_lower},inplace=True)\n",
    "    df[column_lower.replace(\"date\",\"year\")] = df[column_lower].dt.year\n",
    "    df[column_lower.replace(\"date\",\"month\")] = df[column_lower].dt.month\n",
    "    df[column_lower.replace(\"date\",\"dayMonth\")] = df[column_lower].dt.day\n",
    "    df[column_lower.replace(\"date\",\"dayWeek\")] = df[column_lower].dt.weekday\n",
    "    df[column_lower.replace(\"date\",\"weekYear\")] = df[column_lower].dt.week\n",
    "    df[column_lower.replace(\"date\",\"dayYear\")] = df[column_lower].dt.dayofyear\n",
    "    df[column_lower.replace(\"date\",\"dayYear\")] = df[column_lower].dt.dayofyear\n",
    "    \n",
    "    df.drop([column_lower],axis=1,inplace=True)"
   ]
  },
  {
   "cell_type": "markdown",
   "metadata": {},
   "source": [
    "\"\"\" Function to fill missing data in pandas\n",
    "        Args: \n",
    "            df (DataFrame) : DataFrame\n",
    "\"\"\"\n",
    "\n",
    "def fillValues(df):\n",
    "    # get columns of int64 and float \n",
    "    columns = df.select_dtypes(exclude=[\"object\",\"category\"]).columns\n",
    "    df[columns] = df[columns].fillna(df[columns].mean())\n",
    "    # get columns of object \n",
    "    columns = df.select_dtypes(include=[\"object\"]).columns\n",
    "    df[columns] = df[columns].fillna(\"na\")\n",
    "    # get columns of category\n",
    "    columns = df.select_dtypes(include=[\"category\"]).columns\n",
    "    df[columns] = df[columns].apply(lambda col:col.cat.add_categories(\"na\").fillna(\"na\"))"
   ]
  },
  {
   "cell_type": "markdown",
   "metadata": {},
   "source": [
    "## 1.- Pre-proccesing data "
   ]
  },
  {
   "cell_type": "code",
   "execution_count": 24,
   "metadata": {},
   "outputs": [
    {
     "data": {
      "text/plain": [
       "Index(['SalesID', 'SalePrice', 'MachineID', 'ModelID', 'datasource',\n",
       "       'auctioneerID', 'YearMade', 'MachineHoursCurrentMeter', 'UsageBand',\n",
       "       'saledate', 'fiModelDesc', 'fiBaseModel', 'fiSecondaryDesc',\n",
       "       'fiModelSeries', 'fiModelDescriptor', 'ProductSize',\n",
       "       'fiProductClassDesc', 'state', 'ProductGroup', 'ProductGroupDesc',\n",
       "       'Drive_System', 'Enclosure', 'Forks', 'Pad_Type', 'Ride_Control',\n",
       "       'Stick', 'Transmission', 'Turbocharged', 'Blade_Extension',\n",
       "       'Blade_Width', 'Enclosure_Type', 'Engine_Horsepower', 'Hydraulics',\n",
       "       'Pushblock', 'Ripper', 'Scarifier', 'Tip_Control', 'Tire_Size',\n",
       "       'Coupler', 'Coupler_System', 'Grouser_Tracks', 'Hydraulics_Flow',\n",
       "       'Track_Type', 'Undercarriage_Pad_Width', 'Stick_Length', 'Thumb',\n",
       "       'Pattern_Changer', 'Grouser_Type', 'Backhoe_Mounting', 'Blade_Type',\n",
       "       'Travel_Controls', 'Differential_Type', 'Steering_Controls'],\n",
       "      dtype='object')"
      ]
     },
     "execution_count": 24,
     "metadata": {},
     "output_type": "execute_result"
    }
   ],
   "source": [
    "df = pd.read_csv(dataPath+\"TrainAndValid.csv\", low_memory=False)\n",
    "# Check the columns\n",
    "df.columns"
   ]
  },
  {
   "cell_type": "code",
   "execution_count": 12,
   "metadata": {},
   "outputs": [
    {
     "name": "stdout",
     "output_type": "stream",
     "text": [
      "<class 'pandas.core.frame.DataFrame'>\n",
      "RangeIndex: 412698 entries, 0 to 412697\n",
      "Data columns (total 53 columns):\n",
      " #   Column                    Non-Null Count   Dtype  \n",
      "---  ------                    --------------   -----  \n",
      " 0   SalesID                   412698 non-null  int64  \n",
      " 1   SalePrice                 412698 non-null  float64\n",
      " 2   MachineID                 412698 non-null  int64  \n",
      " 3   ModelID                   412698 non-null  int64  \n",
      " 4   datasource                412698 non-null  int64  \n",
      " 5   auctioneerID              392562 non-null  float64\n",
      " 6   YearMade                  412698 non-null  int64  \n",
      " 7   MachineHoursCurrentMeter  147504 non-null  float64\n",
      " 8   UsageBand                 73670 non-null   object \n",
      " 9   saledate                  412698 non-null  object \n",
      " 10  fiModelDesc               412698 non-null  object \n",
      " 11  fiBaseModel               412698 non-null  object \n",
      " 12  fiSecondaryDesc           271971 non-null  object \n",
      " 13  fiModelSeries             58667 non-null   object \n",
      " 14  fiModelDescriptor         74816 non-null   object \n",
      " 15  ProductSize               196093 non-null  object \n",
      " 16  fiProductClassDesc        412698 non-null  object \n",
      " 17  state                     412698 non-null  object \n",
      " 18  ProductGroup              412698 non-null  object \n",
      " 19  ProductGroupDesc          412698 non-null  object \n",
      " 20  Drive_System              107087 non-null  object \n",
      " 21  Enclosure                 412364 non-null  object \n",
      " 22  Forks                     197715 non-null  object \n",
      " 23  Pad_Type                  81096 non-null   object \n",
      " 24  Ride_Control              152728 non-null  object \n",
      " 25  Stick                     81096 non-null   object \n",
      " 26  Transmission              188007 non-null  object \n",
      " 27  Turbocharged              81096 non-null   object \n",
      " 28  Blade_Extension           25983 non-null   object \n",
      " 29  Blade_Width               25983 non-null   object \n",
      " 30  Enclosure_Type            25983 non-null   object \n",
      " 31  Engine_Horsepower         25983 non-null   object \n",
      " 32  Hydraulics                330133 non-null  object \n",
      " 33  Pushblock                 25983 non-null   object \n",
      " 34  Ripper                    106945 non-null  object \n",
      " 35  Scarifier                 25994 non-null   object \n",
      " 36  Tip_Control               25983 non-null   object \n",
      " 37  Tire_Size                 97638 non-null   object \n",
      " 38  Coupler                   220679 non-null  object \n",
      " 39  Coupler_System            44974 non-null   object \n",
      " 40  Grouser_Tracks            44875 non-null   object \n",
      " 41  Hydraulics_Flow           44875 non-null   object \n",
      " 42  Track_Type                102193 non-null  object \n",
      " 43  Undercarriage_Pad_Width   102916 non-null  object \n",
      " 44  Stick_Length              102261 non-null  object \n",
      " 45  Thumb                     102332 non-null  object \n",
      " 46  Pattern_Changer           102261 non-null  object \n",
      " 47  Grouser_Type              102193 non-null  object \n",
      " 48  Backhoe_Mounting          80712 non-null   object \n",
      " 49  Blade_Type                81875 non-null   object \n",
      " 50  Travel_Controls           81877 non-null   object \n",
      " 51  Differential_Type         71564 non-null   object \n",
      " 52  Steering_Controls         71522 non-null   object \n",
      "dtypes: float64(3), int64(5), object(45)\n",
      "memory usage: 166.9+ MB\n"
     ]
    }
   ],
   "source": [
    "# check the dtypes and Non-Null values\n",
    "df.info()"
   ]
  },
  {
   "cell_type": "code",
   "execution_count": 13,
   "metadata": {},
   "outputs": [
    {
     "data": {
      "text/html": [
       "<div>\n",
       "<style scoped>\n",
       "    .dataframe tbody tr th:only-of-type {\n",
       "        vertical-align: middle;\n",
       "    }\n",
       "\n",
       "    .dataframe tbody tr th {\n",
       "        vertical-align: top;\n",
       "    }\n",
       "\n",
       "    .dataframe thead th {\n",
       "        text-align: right;\n",
       "    }\n",
       "</style>\n",
       "<table border=\"1\" class=\"dataframe\">\n",
       "  <thead>\n",
       "    <tr style=\"text-align: right;\">\n",
       "      <th></th>\n",
       "      <th>SalesID</th>\n",
       "      <th>SalePrice</th>\n",
       "      <th>MachineID</th>\n",
       "      <th>ModelID</th>\n",
       "      <th>datasource</th>\n",
       "      <th>auctioneerID</th>\n",
       "      <th>YearMade</th>\n",
       "      <th>MachineHoursCurrentMeter</th>\n",
       "    </tr>\n",
       "  </thead>\n",
       "  <tbody>\n",
       "    <tr>\n",
       "      <th>count</th>\n",
       "      <td>4.126980e+05</td>\n",
       "      <td>412698.000000</td>\n",
       "      <td>4.126980e+05</td>\n",
       "      <td>412698.000000</td>\n",
       "      <td>412698.000000</td>\n",
       "      <td>392562.000000</td>\n",
       "      <td>412698.000000</td>\n",
       "      <td>1.475040e+05</td>\n",
       "    </tr>\n",
       "    <tr>\n",
       "      <th>mean</th>\n",
       "      <td>2.011161e+06</td>\n",
       "      <td>31215.181414</td>\n",
       "      <td>1.230061e+06</td>\n",
       "      <td>6947.201828</td>\n",
       "      <td>135.169361</td>\n",
       "      <td>6.585268</td>\n",
       "      <td>1899.049637</td>\n",
       "      <td>3.522988e+03</td>\n",
       "    </tr>\n",
       "    <tr>\n",
       "      <th>std</th>\n",
       "      <td>1.080068e+06</td>\n",
       "      <td>23141.743695</td>\n",
       "      <td>4.539533e+05</td>\n",
       "      <td>6280.824982</td>\n",
       "      <td>9.646749</td>\n",
       "      <td>17.158409</td>\n",
       "      <td>292.190243</td>\n",
       "      <td>2.716993e+04</td>\n",
       "    </tr>\n",
       "    <tr>\n",
       "      <th>min</th>\n",
       "      <td>1.139246e+06</td>\n",
       "      <td>4750.000000</td>\n",
       "      <td>0.000000e+00</td>\n",
       "      <td>28.000000</td>\n",
       "      <td>121.000000</td>\n",
       "      <td>0.000000</td>\n",
       "      <td>1000.000000</td>\n",
       "      <td>0.000000e+00</td>\n",
       "    </tr>\n",
       "    <tr>\n",
       "      <th>25%</th>\n",
       "      <td>1.421898e+06</td>\n",
       "      <td>14500.000000</td>\n",
       "      <td>1.088593e+06</td>\n",
       "      <td>3261.000000</td>\n",
       "      <td>132.000000</td>\n",
       "      <td>1.000000</td>\n",
       "      <td>1985.000000</td>\n",
       "      <td>0.000000e+00</td>\n",
       "    </tr>\n",
       "    <tr>\n",
       "      <th>50%</th>\n",
       "      <td>1.645852e+06</td>\n",
       "      <td>24000.000000</td>\n",
       "      <td>1.284397e+06</td>\n",
       "      <td>4605.000000</td>\n",
       "      <td>132.000000</td>\n",
       "      <td>2.000000</td>\n",
       "      <td>1995.000000</td>\n",
       "      <td>0.000000e+00</td>\n",
       "    </tr>\n",
       "    <tr>\n",
       "      <th>75%</th>\n",
       "      <td>2.261012e+06</td>\n",
       "      <td>40000.000000</td>\n",
       "      <td>1.478079e+06</td>\n",
       "      <td>8899.000000</td>\n",
       "      <td>136.000000</td>\n",
       "      <td>4.000000</td>\n",
       "      <td>2001.000000</td>\n",
       "      <td>3.209000e+03</td>\n",
       "    </tr>\n",
       "    <tr>\n",
       "      <th>max</th>\n",
       "      <td>6.333349e+06</td>\n",
       "      <td>142000.000000</td>\n",
       "      <td>2.486330e+06</td>\n",
       "      <td>37198.000000</td>\n",
       "      <td>173.000000</td>\n",
       "      <td>99.000000</td>\n",
       "      <td>2014.000000</td>\n",
       "      <td>2.483300e+06</td>\n",
       "    </tr>\n",
       "  </tbody>\n",
       "</table>\n",
       "</div>"
      ],
      "text/plain": [
       "            SalesID      SalePrice     MachineID        ModelID  \\\n",
       "count  4.126980e+05  412698.000000  4.126980e+05  412698.000000   \n",
       "mean   2.011161e+06   31215.181414  1.230061e+06    6947.201828   \n",
       "std    1.080068e+06   23141.743695  4.539533e+05    6280.824982   \n",
       "min    1.139246e+06    4750.000000  0.000000e+00      28.000000   \n",
       "25%    1.421898e+06   14500.000000  1.088593e+06    3261.000000   \n",
       "50%    1.645852e+06   24000.000000  1.284397e+06    4605.000000   \n",
       "75%    2.261012e+06   40000.000000  1.478079e+06    8899.000000   \n",
       "max    6.333349e+06  142000.000000  2.486330e+06   37198.000000   \n",
       "\n",
       "          datasource   auctioneerID       YearMade  MachineHoursCurrentMeter  \n",
       "count  412698.000000  392562.000000  412698.000000              1.475040e+05  \n",
       "mean      135.169361       6.585268    1899.049637              3.522988e+03  \n",
       "std         9.646749      17.158409     292.190243              2.716993e+04  \n",
       "min       121.000000       0.000000    1000.000000              0.000000e+00  \n",
       "25%       132.000000       1.000000    1985.000000              0.000000e+00  \n",
       "50%       132.000000       2.000000    1995.000000              0.000000e+00  \n",
       "75%       136.000000       4.000000    2001.000000              3.209000e+03  \n",
       "max       173.000000      99.000000    2014.000000              2.483300e+06  "
      ]
     },
     "execution_count": 13,
     "metadata": {},
     "output_type": "execute_result"
    }
   ],
   "source": [
    "# Describe numeric columns\n",
    "df.describe()"
   ]
  },
  {
   "cell_type": "code",
   "execution_count": 14,
   "metadata": {},
   "outputs": [
    {
     "data": {
      "text/html": [
       "<div>\n",
       "<style scoped>\n",
       "    .dataframe tbody tr th:only-of-type {\n",
       "        vertical-align: middle;\n",
       "    }\n",
       "\n",
       "    .dataframe tbody tr th {\n",
       "        vertical-align: top;\n",
       "    }\n",
       "\n",
       "    .dataframe thead th {\n",
       "        text-align: right;\n",
       "    }\n",
       "</style>\n",
       "<table border=\"1\" class=\"dataframe\">\n",
       "  <thead>\n",
       "    <tr style=\"text-align: right;\">\n",
       "      <th></th>\n",
       "      <th>UsageBand</th>\n",
       "      <th>saledate</th>\n",
       "      <th>fiModelDesc</th>\n",
       "      <th>fiBaseModel</th>\n",
       "      <th>fiSecondaryDesc</th>\n",
       "      <th>fiModelSeries</th>\n",
       "      <th>fiModelDescriptor</th>\n",
       "      <th>ProductSize</th>\n",
       "      <th>fiProductClassDesc</th>\n",
       "      <th>state</th>\n",
       "      <th>...</th>\n",
       "      <th>Undercarriage_Pad_Width</th>\n",
       "      <th>Stick_Length</th>\n",
       "      <th>Thumb</th>\n",
       "      <th>Pattern_Changer</th>\n",
       "      <th>Grouser_Type</th>\n",
       "      <th>Backhoe_Mounting</th>\n",
       "      <th>Blade_Type</th>\n",
       "      <th>Travel_Controls</th>\n",
       "      <th>Differential_Type</th>\n",
       "      <th>Steering_Controls</th>\n",
       "    </tr>\n",
       "  </thead>\n",
       "  <tbody>\n",
       "    <tr>\n",
       "      <th>count</th>\n",
       "      <td>73670</td>\n",
       "      <td>412698</td>\n",
       "      <td>412698</td>\n",
       "      <td>412698</td>\n",
       "      <td>271971</td>\n",
       "      <td>58667</td>\n",
       "      <td>74816</td>\n",
       "      <td>196093</td>\n",
       "      <td>412698</td>\n",
       "      <td>412698</td>\n",
       "      <td>...</td>\n",
       "      <td>102916</td>\n",
       "      <td>102261</td>\n",
       "      <td>102332</td>\n",
       "      <td>102261</td>\n",
       "      <td>102193</td>\n",
       "      <td>80712</td>\n",
       "      <td>81875</td>\n",
       "      <td>81877</td>\n",
       "      <td>71564</td>\n",
       "      <td>71522</td>\n",
       "    </tr>\n",
       "    <tr>\n",
       "      <th>unique</th>\n",
       "      <td>3</td>\n",
       "      <td>4013</td>\n",
       "      <td>5059</td>\n",
       "      <td>1961</td>\n",
       "      <td>177</td>\n",
       "      <td>123</td>\n",
       "      <td>140</td>\n",
       "      <td>6</td>\n",
       "      <td>74</td>\n",
       "      <td>53</td>\n",
       "      <td>...</td>\n",
       "      <td>19</td>\n",
       "      <td>29</td>\n",
       "      <td>3</td>\n",
       "      <td>3</td>\n",
       "      <td>3</td>\n",
       "      <td>2</td>\n",
       "      <td>10</td>\n",
       "      <td>7</td>\n",
       "      <td>4</td>\n",
       "      <td>5</td>\n",
       "    </tr>\n",
       "    <tr>\n",
       "      <th>top</th>\n",
       "      <td>Medium</td>\n",
       "      <td>2/16/2009 0:00</td>\n",
       "      <td>310G</td>\n",
       "      <td>580</td>\n",
       "      <td>C</td>\n",
       "      <td>II</td>\n",
       "      <td>L</td>\n",
       "      <td>Medium</td>\n",
       "      <td>Backhoe Loader - 14.0 to 15.0 Ft Standard Digg...</td>\n",
       "      <td>Florida</td>\n",
       "      <td>...</td>\n",
       "      <td>None or Unspecified</td>\n",
       "      <td>None or Unspecified</td>\n",
       "      <td>None or Unspecified</td>\n",
       "      <td>None or Unspecified</td>\n",
       "      <td>Double</td>\n",
       "      <td>None or Unspecified</td>\n",
       "      <td>PAT</td>\n",
       "      <td>None or Unspecified</td>\n",
       "      <td>Standard</td>\n",
       "      <td>Conventional</td>\n",
       "    </tr>\n",
       "    <tr>\n",
       "      <th>freq</th>\n",
       "      <td>35832</td>\n",
       "      <td>1932</td>\n",
       "      <td>5348</td>\n",
       "      <td>20179</td>\n",
       "      <td>44431</td>\n",
       "      <td>13770</td>\n",
       "      <td>16464</td>\n",
       "      <td>64342</td>\n",
       "      <td>57542</td>\n",
       "      <td>67320</td>\n",
       "      <td>...</td>\n",
       "      <td>82444</td>\n",
       "      <td>81539</td>\n",
       "      <td>85074</td>\n",
       "      <td>92924</td>\n",
       "      <td>86998</td>\n",
       "      <td>80692</td>\n",
       "      <td>39633</td>\n",
       "      <td>71447</td>\n",
       "      <td>70169</td>\n",
       "      <td>70774</td>\n",
       "    </tr>\n",
       "  </tbody>\n",
       "</table>\n",
       "<p>4 rows × 45 columns</p>\n",
       "</div>"
      ],
      "text/plain": [
       "       UsageBand        saledate fiModelDesc fiBaseModel fiSecondaryDesc  \\\n",
       "count      73670          412698      412698      412698          271971   \n",
       "unique         3            4013        5059        1961             177   \n",
       "top       Medium  2/16/2009 0:00        310G         580               C   \n",
       "freq       35832            1932        5348       20179           44431   \n",
       "\n",
       "       fiModelSeries fiModelDescriptor ProductSize  \\\n",
       "count          58667             74816      196093   \n",
       "unique           123               140           6   \n",
       "top               II                 L      Medium   \n",
       "freq           13770             16464       64342   \n",
       "\n",
       "                                       fiProductClassDesc    state  ...  \\\n",
       "count                                              412698   412698  ...   \n",
       "unique                                                 74       53  ...   \n",
       "top     Backhoe Loader - 14.0 to 15.0 Ft Standard Digg...  Florida  ...   \n",
       "freq                                                57542    67320  ...   \n",
       "\n",
       "       Undercarriage_Pad_Width         Stick_Length                Thumb  \\\n",
       "count                   102916               102261               102332   \n",
       "unique                      19                   29                    3   \n",
       "top        None or Unspecified  None or Unspecified  None or Unspecified   \n",
       "freq                     82444                81539                85074   \n",
       "\n",
       "            Pattern_Changer Grouser_Type     Backhoe_Mounting Blade_Type  \\\n",
       "count                102261       102193                80712      81875   \n",
       "unique                    3            3                    2         10   \n",
       "top     None or Unspecified       Double  None or Unspecified        PAT   \n",
       "freq                  92924        86998                80692      39633   \n",
       "\n",
       "            Travel_Controls Differential_Type Steering_Controls  \n",
       "count                 81877             71564             71522  \n",
       "unique                    7                 4                 5  \n",
       "top     None or Unspecified          Standard      Conventional  \n",
       "freq                  71447             70169             70774  \n",
       "\n",
       "[4 rows x 45 columns]"
      ]
     },
     "execution_count": 14,
     "metadata": {},
     "output_type": "execute_result"
    }
   ],
   "source": [
    "# Describe Object columns \n",
    "df.describe(include=[\"object\"])"
   ]
  },
  {
   "cell_type": "code",
   "execution_count": 25,
   "metadata": {},
   "outputs": [
    {
     "name": "stdout",
     "output_type": "stream",
     "text": [
      "[nan 'Medium' 'Small' 'Large / Medium' 'Mini' 'Large' 'Compact']\n",
      "['Low' 'High' 'Medium' nan]\n"
     ]
    }
   ],
   "source": [
    "\"\"\" the documentation says: \n",
    "            - ProductSize: The size class grouping for a product group. Subsets within product group.\n",
    "            - UsageBand: value (low, medium, high) calculated comparing this particular Machine-Sale hours to average usage\n",
    "\n",
    "Both columns can have comparison in theirs values, for instance high is bigger than medium and medium is bigger than low.\"\"\"\n",
    "\n",
    "# Check unique values of the productSize and UsageBand columns\n",
    "print(df[\"ProductSize\"].unique())\n",
    "print(df[\"UsageBand\"].unique())\n",
    "\n",
    "# set ProductSize and UsageBand as category types and ordered acording with the tuple defined below\n",
    "sizes  = (\"Large\",\"Large / Medium\",\"Medium\",\"Small\",\"Mini\",\"Compact\")\n",
    "usages = {\"High\",\"Medium\",\"Low\"}\n",
    "\n",
    "# cast\n",
    "df[\"ProductSize\"] = df[\"ProductSize\"].astype(\"category\")\n",
    "df[\"UsageBand\"] = df[\"UsageBand\"].astype(\"category\")\n",
    "# set categories\n",
    "df[\"ProductSize\"].cat.set_categories(sizes,ordered=True,inplace=True)\n",
    "df[\"UsageBand\"].cat.set_categories(usages, ordered=True,inplace=True)"
   ]
  },
  {
   "cell_type": "markdown",
   "metadata": {},
   "source": [
    "## 2.- Proccesing data"
   ]
  },
  {
   "cell_type": "code",
   "execution_count": 26,
   "metadata": {},
   "outputs": [
    {
     "data": {
      "text/plain": [
       "' Optional: save the DataFrame \\n    df_shelve = shelve.open(dataPath+\"dataProcessed.db\")\\n    try:\\n        df_shelve[\"df_train\"] = df_train\\n        df_shelve[\"df_val\"] = df_val\\n    finally:\\n        df_shelve.close()'"
      ]
     },
     "execution_count": 26,
     "metadata": {},
     "output_type": "execute_result"
    }
   ],
   "source": [
    "# Transform SalePrice in order to use the root mean squared log error (mandatory)\n",
    "df[\"SalePrice\"] = np.log(df[\"SalePrice\"])\n",
    "\n",
    "# Convert saledate in time object \n",
    "dateSplitTime(df,\"saledate\")\n",
    "\n",
    "# Fill missing values\n",
    "fillValues(df)\n",
    "\n",
    "# Convert object types to categories\n",
    "columns = df.select_dtypes(include=[\"object\"]).columns\n",
    "df[columns] = df[columns].astype(\"category\")\n",
    "\n",
    "# Split df to train and valid data \n",
    "#cond = (df.saleyear < 2011) | ((df.salemonth <= 10) & (df.saleyear == 2011)) # This is optional\n",
    "cond = ((df.saleyear < 2011) | (df.salemonth<10)) # This is the range used in the book, however I suspect that it´s wrong\n",
    "df_train = df[cond]\n",
    "df_val = df[~cond ]\n",
    "\n",
    "\"\"\" Optional: save the DataFrame \n",
    "    df_shelve = shelve.open(dataPath+\"dataProcessed.db\")\n",
    "    try:\n",
    "        df_shelve[\"df_train\"] = df_train\n",
    "        df_shelve[\"df_val\"] = df_val\n",
    "    finally:\n",
    "        df_shelve.close()\n",
    "\"\"\""
   ]
  },
  {
   "cell_type": "markdown",
   "metadata": {},
   "source": [
    "## 3.- Models and Analysis\n",
    "\n",
    "To solve this dataset we´re going to use the same approach of the book. As bulldozers dataset is a tabular data, one the best approaches is to use random forest and then take advantage of feature importance, feature analysis, partial dependence and so on. In order to improve the performance of the taks. \n",
    "\n",
    "Instead of using data analysis, feature engineer, data visualization and so on. At a first step (Normally this is the first step, then model creation, training and finally validation, all this whole process is the first iteration of the cycle of a machine learning task). We´re to let the model tell us about the data and how the features are correlated and how they are important to the task."
   ]
  },
  {
   "cell_type": "code",
   "execution_count": 27,
   "metadata": {},
   "outputs": [],
   "source": [
    "import matplotlib.pyplot as plt\n",
    "from sklearn.tree import DecisionTreeRegressor, plot_tree\n",
    "from sklearn.ensemble import RandomForestRegressor\n",
    "from sklearn.inspection import plot_partial_dependence\n",
    "from scipy.spatial.distance import pdist\n",
    "from scipy.cluster.hierarchy import linkage, dendrogram"
   ]
  },
  {
   "cell_type": "code",
   "execution_count": 28,
   "metadata": {},
   "outputs": [],
   "source": [
    "\"\"\" Definition of root mean squered log error\n",
    "        \n",
    "        Args:\n",
    "            model (sklearn Object) : Model trainedn\n",
    "            x_data : (Pandas DataFrame) : independent data\n",
    "            y_data : (Pandas DataFrame) : Dependen data\n",
    "\"\"\"\n",
    "def r_mse(y_pred,y): return round(np.sqrt(((y_pred-y)**2).mean()),6)\n",
    "def m_rmse(model,x,y): return r_mse(model.predict(x),y)\n",
    "\n",
    "\n",
    "\"\"\" Definition of the importance features of random forest model\n",
    "        \n",
    "        Args:\n",
    "            model (RandomFores or DecisionTree): Model traindes\n",
    "            df (Pnadas DataFrame) : Dataframe to extract the columns\n",
    "\n",
    "\"\"\"\n",
    "def f_importances_model(model,df):\n",
    "    return pd.DataFrame({\"cols\":df.columns,\"imp\":model.feature_importances_}\n",
    "                                ).sort_values(\"imp\",ascending=False)  \n",
    "\n",
    "\"\"\" Definition of a barh graph\n",
    "        \n",
    "        Args: \n",
    "            fi (Pandas DataFrame): Dataframe of importance columns \n",
    "            ax (axe object): ax object to plot\n",
    "            \n",
    "https://www.geeksforgeeks.org/bar-plot-in-matplotlib/\n",
    "\"\"\"\n",
    "def plot_f_importance_model(fi,ax):\n",
    "    ax.set_ylabel(\"Columns\")\n",
    "    ax.set_xlabel(\"Importance\")\n",
    "    return ax.barh(fi[\"cols\"],fi[\"imp\"])\n",
    "\n",
    "\n",
    "\"\"\" Definition of oob measurement of a randomForest\n",
    "        \n",
    "        Args: x (Pandas DataFrame): independent variables\n",
    "              y (Pandas DataFram): independent variable\n",
    "        return model.oob (float): oob score\n",
    "\"\"\"\n",
    "def get_oob(x,y):\n",
    "    model = RandomForestRegressor(n_estimators=40,\n",
    "                                    max_samples=50_000,max_features=0.5,\n",
    "                                    min_samples_leaf=15,oob_score=True,n_jobs=-1)\n",
    "    model.fit(x,y)\n",
    "    return model.oob_score_"
   ]
  },
  {
   "cell_type": "markdown",
   "metadata": {},
   "source": [
    "### 3.1.- Cleaning data to feed the model"
   ]
  },
  {
   "cell_type": "code",
   "execution_count": 29,
   "metadata": {},
   "outputs": [],
   "source": [
    "# split dependent and independent variables\n",
    "x_train, y_train = df_train.drop(['SalePrice'],axis=1), df_train['SalePrice']\n",
    "x_val, y_val = df_val.drop(['SalePrice'],axis=1), df_val['SalePrice']\n",
    "\n",
    "# (note: we must convert the categorical values to its respect encoding code to run a random forest)\n",
    "# Get categorical columns\n",
    "category_columns = x_train.select_dtypes(include = [\"category\"]).columns\n",
    "# map w.r.t its code \n",
    "x_train[category_columns] = x_train[category_columns].apply(lambda col:col.cat.codes)\n",
    "x_val[category_columns] = x_val[category_columns].apply(lambda col:col.cat.codes)\n",
    "\n",
    "\n",
    "# as in the book says, there are YearMade values that doesn´t make sense, for instances, YearMade->1000. This intuition is given\n",
    "# by a Decission tree showed in the book (We don´t show it because we had troubles in library installation to visualizing the decision tree)\n",
    "# Chagnge YearMade < 1000\n",
    "x_train.loc[x_train[\"YearMade\"]<1900,\"YearMade\"] = 1950\n",
    "x_val.loc[x_val[\"YearMade\"]<1900,\"YearMade\"] = 1950"
   ]
  },
  {
   "cell_type": "markdown",
   "metadata": {},
   "source": [
    "### 3.2 First model - Vanilla (Decission Tree)"
   ]
  },
  {
   "cell_type": "code",
   "execution_count": 70,
   "metadata": {},
   "outputs": [
    {
     "data": {
      "text/plain": [
       "(404710, 57)"
      ]
     },
     "execution_count": 70,
     "metadata": {},
     "output_type": "execute_result"
    },
    {
     "data": {
      "image/png": "[encoded data removed]",
      "text/plain": [
       "<Figure size 864x504 with 1 Axes>"
      ]
     },
     "metadata": {
      "needs_background": "light"
     },
     "output_type": "display_data"
    }
   ],
   "source": [
    "# Create the first DecisionTree\n",
    "# Categorical does not work to input in Decission Tree\n",
    "# must convert to its code\n",
    "model_1 = DecisionTreeRegressor(max_leaf_nodes=7)\n",
    "model_1.fit(x_train,y_train)\n",
    "# Visualization of the first desicion tree\n",
    "feature_names = x_train.columns\n",
    "fig, ax = plt.subplots(figsize=(12,7))\n",
    "plot_tree(model_1,feature_names=feature_names,max_depth=7,precision=2,ax=ax)\n",
    "x_train.shape"
   ]
  },
  {
   "cell_type": "code",
   "execution_count": 69,
   "metadata": {},
   "outputs": [
    {
     "name": "stdout",
     "output_type": "stream",
     "text": [
      "model 1 : Train root mean squered log error ----> 0.481245\n",
      "model 1 : Validation root mean squered log error ----> 0.498266\n"
     ]
    }
   ],
   "source": [
    "# Check the errors \n",
    "err_train_model1 = m_rmse(model_1,x_train,y_train)\n",
    "err_val_model1 = m_rmse(model_1,x_val,y_val)\n",
    "print(\"model 1 : Train root mean squered log error ----> {}\".format(err_train_model1))\n",
    "print(\"model 1 : Validation root mean squered log error ----> {}\".format(err_val_model1))"
   ]
  },
  {
   "cell_type": "markdown",
   "metadata": {},
   "source": [
    "### 3.3.- Random Forest models "
   ]
  },
  {
   "cell_type": "code",
   "execution_count": 38,
   "metadata": {},
   "outputs": [
    {
     "name": "stderr",
     "output_type": "stream",
     "text": [
      "C:\\Users\\ivan_\\anaconda3\\lib\\site-packages\\sklearn\\base.py:445: UserWarning: X does not have valid feature names, but RandomForestRegressor was fitted with feature names\n",
      "  warnings.warn(\n"
     ]
    },
    {
     "name": "stdout",
     "output_type": "stream",
     "text": [
      "model 2 : Train root mean squered log error ----> 0.174909\n",
      "model 2 : Validation root mean squered log error ----> 0.235269\n"
     ]
    }
   ],
   "source": [
    "# Create the first randomForest\n",
    "model_2 = RandomForestRegressor(n_estimators=40,\n",
    "                                    max_samples=200_000,max_features=0.5,\n",
    "                                    min_samples_leaf=5,oob_score=True,n_jobs=-1)\n",
    "model_2.fit(x_train,y_train)\n",
    "# Check the errors\n",
    "err_train_model2 = m_rmse(model_2,x_train,y_train)\n",
    "err_val_model2 = m_rmse(model_2,x_val,y_val)\n",
    "print(\"model 2 : Train root mean squered log error ----> {}\".format(err_train_model2))\n",
    "print(\"model 2 : Validation root mean squered log error ----> {}\".format(err_val_model2))"
   ]
  },
  {
   "cell_type": "code",
   "execution_count": 39,
   "metadata": {},
   "outputs": [
    {
     "data": {
      "text/plain": [
       "0.21453"
      ]
     },
     "execution_count": 39,
     "metadata": {},
     "output_type": "execute_result"
    }
   ],
   "source": [
    "# Check the out-of-bag error (it´s a kind of validation error)\n",
    "r_mse(model_2.oob_prediction_, y_train)"
   ]
  },
  {
   "cell_type": "markdown",
   "metadata": {},
   "source": [
    "### 3.3.1.- Model interpretation - Random Forest"
   ]
  },
  {
   "cell_type": "code",
   "execution_count": 40,
   "metadata": {},
   "outputs": [
    {
     "data": {
      "text/html": [
       "<div>\n",
       "<style scoped>\n",
       "    .dataframe tbody tr th:only-of-type {\n",
       "        vertical-align: middle;\n",
       "    }\n",
       "\n",
       "    .dataframe tbody tr th {\n",
       "        vertical-align: top;\n",
       "    }\n",
       "\n",
       "    .dataframe thead th {\n",
       "        text-align: right;\n",
       "    }\n",
       "</style>\n",
       "<table border=\"1\" class=\"dataframe\">\n",
       "  <thead>\n",
       "    <tr style=\"text-align: right;\">\n",
       "      <th></th>\n",
       "      <th>cols</th>\n",
       "      <th>imp</th>\n",
       "    </tr>\n",
       "  </thead>\n",
       "  <tbody>\n",
       "    <tr>\n",
       "      <th>5</th>\n",
       "      <td>YearMade</td>\n",
       "      <td>0.196186</td>\n",
       "    </tr>\n",
       "    <tr>\n",
       "      <th>13</th>\n",
       "      <td>ProductSize</td>\n",
       "      <td>0.193645</td>\n",
       "    </tr>\n",
       "    <tr>\n",
       "      <th>51</th>\n",
       "      <td>saleyear</td>\n",
       "      <td>0.056475</td>\n",
       "    </tr>\n",
       "    <tr>\n",
       "      <th>38</th>\n",
       "      <td>Grouser_Tracks</td>\n",
       "      <td>0.051422</td>\n",
       "    </tr>\n",
       "    <tr>\n",
       "      <th>10</th>\n",
       "      <td>fiSecondaryDesc</td>\n",
       "      <td>0.051108</td>\n",
       "    </tr>\n",
       "    <tr>\n",
       "      <th>37</th>\n",
       "      <td>Coupler_System</td>\n",
       "      <td>0.048949</td>\n",
       "    </tr>\n",
       "    <tr>\n",
       "      <th>14</th>\n",
       "      <td>fiProductClassDesc</td>\n",
       "      <td>0.046794</td>\n",
       "    </tr>\n",
       "    <tr>\n",
       "      <th>39</th>\n",
       "      <td>Hydraulics_Flow</td>\n",
       "      <td>0.043296</td>\n",
       "    </tr>\n",
       "    <tr>\n",
       "      <th>8</th>\n",
       "      <td>fiModelDesc</td>\n",
       "      <td>0.041133</td>\n",
       "    </tr>\n",
       "    <tr>\n",
       "      <th>2</th>\n",
       "      <td>ModelID</td>\n",
       "      <td>0.039075</td>\n",
       "    </tr>\n",
       "    <tr>\n",
       "      <th>9</th>\n",
       "      <td>fiBaseModel</td>\n",
       "      <td>0.036783</td>\n",
       "    </tr>\n",
       "    <tr>\n",
       "      <th>0</th>\n",
       "      <td>SalesID</td>\n",
       "      <td>0.030665</td>\n",
       "    </tr>\n",
       "    <tr>\n",
       "      <th>19</th>\n",
       "      <td>Enclosure</td>\n",
       "      <td>0.022098</td>\n",
       "    </tr>\n",
       "    <tr>\n",
       "      <th>1</th>\n",
       "      <td>MachineID</td>\n",
       "      <td>0.015689</td>\n",
       "    </tr>\n",
       "    <tr>\n",
       "      <th>12</th>\n",
       "      <td>fiModelDescriptor</td>\n",
       "      <td>0.012192</td>\n",
       "    </tr>\n",
       "  </tbody>\n",
       "</table>\n",
       "</div>"
      ],
      "text/plain": [
       "                  cols       imp\n",
       "5             YearMade  0.196186\n",
       "13         ProductSize  0.193645\n",
       "51            saleyear  0.056475\n",
       "38      Grouser_Tracks  0.051422\n",
       "10     fiSecondaryDesc  0.051108\n",
       "37      Coupler_System  0.048949\n",
       "14  fiProductClassDesc  0.046794\n",
       "39     Hydraulics_Flow  0.043296\n",
       "8          fiModelDesc  0.041133\n",
       "2              ModelID  0.039075\n",
       "9          fiBaseModel  0.036783\n",
       "0              SalesID  0.030665\n",
       "19           Enclosure  0.022098\n",
       "1            MachineID  0.015689\n",
       "12   fiModelDescriptor  0.012192"
      ]
     },
     "execution_count": 40,
     "metadata": {},
     "output_type": "execute_result"
    }
   ],
   "source": [
    "# Check the importance features\n",
    "f_importance_model_2 = f_importances_model(model_2, x_train)\n",
    "f_importance_model_2.head(15)"
   ]
  },
  {
   "cell_type": "code",
   "execution_count": 41,
   "metadata": {},
   "outputs": [
    {
     "data": {
      "text/plain": [
       "<BarContainer object of 30 artists>"
      ]
     },
     "execution_count": 41,
     "metadata": {},
     "output_type": "execute_result"
    },
    {
     "data": {
      "image/png": "[encoded data removed]",
      "text/plain": [
       "<Figure size 864x504 with 1 Axes>"
      ]
     },
     "metadata": {
      "needs_background": "light"
     },
     "output_type": "display_data"
    }
   ],
   "source": [
    "# plot the importance features of model_2\n",
    "fig, ax = plt.subplots(figsize=(12,7))\n",
    "plot_f_importance_model(f_importance_model_2[:30],ax)"
   ]
  },
  {
   "cell_type": "code",
   "execution_count": 48,
   "metadata": {},
   "outputs": [
    {
     "name": "stdout",
     "output_type": "stream",
     "text": [
      "Number of features : 22\n"
     ]
    }
   ],
   "source": [
    "# Removing low-importance variables\n",
    "to_keep = f_importance_model_2[f_importance_model_2.imp>0.005].cols\n",
    "x_train_new = x_train[to_keep]    \n",
    "x_val_new = x_val[to_keep]\n",
    "print(\"Number of features : {}\".format(x_train_new.shape[1]))"
   ]
  },
  {
   "cell_type": "code",
   "execution_count": 49,
   "metadata": {},
   "outputs": [
    {
     "name": "stderr",
     "output_type": "stream",
     "text": [
      "C:\\Users\\ivan_\\anaconda3\\lib\\site-packages\\sklearn\\base.py:445: UserWarning: X does not have valid feature names, but RandomForestRegressor was fitted with feature names\n",
      "  warnings.warn(\n"
     ]
    },
    {
     "name": "stdout",
     "output_type": "stream",
     "text": [
      "model 3 : Train root mean squered log error ----> 0.178007\n",
      "model 3 : Validation root mean squered log error ----> 0.235177\n"
     ]
    }
   ],
   "source": [
    "# Create the second randomForest\n",
    "model_3 = RandomForestRegressor(n_estimators=40,\n",
    "                                    max_samples=200_000,max_features=0.5,\n",
    "                                    min_samples_leaf=5,oob_score=True,n_jobs=-1)\n",
    "model_3.fit(x_train_new,y_train)\n",
    "# Check the errors\n",
    "err_train_model3 = m_rmse(model_3,x_train_new,y_train)\n",
    "err_val_model3 = m_rmse(model_3,x_val_new,y_val)\n",
    "print(\"model 3 : Train root mean squered log error ----> {}\".format(err_train_model3))\n",
    "print(\"model 3 : Validation root mean squered log error ----> {}\".format(err_val_model3))"
   ]
  },
  {
   "cell_type": "code",
   "execution_count": 50,
   "metadata": {},
   "outputs": [
    {
     "data": {
      "text/plain": [
       "<BarContainer object of 22 artists>"
      ]
     },
     "execution_count": 50,
     "metadata": {},
     "output_type": "execute_result"
    },
    {
     "data": {
      "image/png": "[encoded data removed]",
      "text/plain": [
       "<Figure size 864x504 with 1 Axes>"
      ]
     },
     "metadata": {
      "needs_background": "light"
     },
     "output_type": "display_data"
    }
   ],
   "source": [
    "# plot the importance features of model_3\n",
    "f_importance_model_3 = f_importances_model(model_3, x_train_new)\n",
    "fig, ax = plt.subplots(figsize=(12,7))\n",
    "plot_f_importance_model(f_importance_model_3[:],ax)"
   ]
  },
  {
   "cell_type": "code",
   "execution_count": 52,
   "metadata": {},
   "outputs": [
    {
     "data": {
      "image/png": "[encoded data removed]",
      "text/plain": [
       "<Figure size 864x504 with 1 Axes>"
      ]
     },
     "metadata": {
      "needs_background": "light"
     },
     "output_type": "display_data"
    }
   ],
   "source": [
    "# Removing Redundant Features\n",
    "# http://datanongrata.com/2019/04/27/67/\n",
    "x_train_new_t = x_train_new.T\n",
    "c_dist = pdist(x_train_new_t) # compute the distance\n",
    "c_link = linkage(x_train_new_t,  metric='correlation', method='complete')# computing the linkage\n",
    "fig, ax = plt.subplots(figsize=(12,7))\n",
    "B = dendrogram(c_link,labels=list(x_train_new.columns),orientation=\"left\",ax=ax)"
   ]
  },
  {
   "cell_type": "code",
   "execution_count": 56,
   "metadata": {},
   "outputs": [
    {
     "name": "stderr",
     "output_type": "stream",
     "text": [
      "C:\\Users\\ivan_\\anaconda3\\lib\\site-packages\\sklearn\\base.py:445: UserWarning: X does not have valid feature names, but RandomForestRegressor was fitted with feature names\n",
      "  warnings.warn(\n"
     ]
    },
    {
     "name": "stdout",
     "output_type": "stream",
     "text": [
      "oob score origin: 0.8732934258147447\n"
     ]
    },
    {
     "name": "stderr",
     "output_type": "stream",
     "text": [
      "C:\\Users\\ivan_\\anaconda3\\lib\\site-packages\\sklearn\\base.py:445: UserWarning: X does not have valid feature names, but RandomForestRegressor was fitted with feature names\n",
      "  warnings.warn(\n",
      "C:\\Users\\ivan_\\anaconda3\\lib\\site-packages\\sklearn\\base.py:445: UserWarning: X does not have valid feature names, but RandomForestRegressor was fitted with feature names\n",
      "  warnings.warn(\n",
      "C:\\Users\\ivan_\\anaconda3\\lib\\site-packages\\sklearn\\base.py:445: UserWarning: X does not have valid feature names, but RandomForestRegressor was fitted with feature names\n",
      "  warnings.warn(\n",
      "C:\\Users\\ivan_\\anaconda3\\lib\\site-packages\\sklearn\\base.py:445: UserWarning: X does not have valid feature names, but RandomForestRegressor was fitted with feature names\n",
      "  warnings.warn(\n",
      "C:\\Users\\ivan_\\anaconda3\\lib\\site-packages\\sklearn\\base.py:445: UserWarning: X does not have valid feature names, but RandomForestRegressor was fitted with feature names\n",
      "  warnings.warn(\n",
      "C:\\Users\\ivan_\\anaconda3\\lib\\site-packages\\sklearn\\base.py:445: UserWarning: X does not have valid feature names, but RandomForestRegressor was fitted with feature names\n",
      "  warnings.warn(\n"
     ]
    },
    {
     "name": "stdout",
     "output_type": "stream",
     "text": [
      "{'obb score Grouser_Tracks': 0.8718804074556925, 'obb score Coupler_System': 0.8710139455682622, 'obb score ProductGroup': 0.8721705240437438, 'obb score ProductGroupDesc': 0.8721082338542938, 'obb score fiBaseModel': 0.8712396306805975, 'obb score fiModelDesc': 0.8708219096234469}\n"
     ]
    }
   ],
   "source": [
    "# It can see in the dendogram that Grouser_Tracks, Coupler_System, ProductGroup, ProductGroupDesc, fiBaseModel and fiModelDesc\n",
    "# have a strong correlation.\n",
    "\n",
    "# get oob score in x_train_new in order to have a reference score\n",
    "origin = get_oob(x_train_new, y_train)\n",
    "print(\"oob score origin: {}\".format(origin))\n",
    "\n",
    "# get oob score erasing Grouser_Tracks, Coupler_System, ProductGroup, ProductGroupDesc, fiBaseModel and fiModelDesc\n",
    "    # one by one\n",
    "obb_scores = {\"obb score \" + col:get_oob(x_train_new.drop(col,axis=1), y_train) for col in (\"Grouser_Tracks\",\"Coupler_System\",\n",
    "                                                                    \"ProductGroup\", \"ProductGroupDesc\",\n",
    "                                                                    \"fiBaseModel\",\"fiModelDesc\")}\n",
    "\n",
    "print(obb_scores)"
   ]
  },
  {
   "cell_type": "code",
   "execution_count": 57,
   "metadata": {},
   "outputs": [
    {
     "name": "stderr",
     "output_type": "stream",
     "text": [
      "C:\\Users\\ivan_\\anaconda3\\lib\\site-packages\\sklearn\\base.py:445: UserWarning: X does not have valid feature names, but RandomForestRegressor was fitted with feature names\n",
      "  warnings.warn(\n"
     ]
    },
    {
     "data": {
      "text/plain": [
       "0.8699284664974166"
      ]
     },
     "execution_count": 57,
     "metadata": {},
     "output_type": "execute_result"
    }
   ],
   "source": [
    "# let´s drop Coupler_System, ProductGroupDesc and fiModelDesc because dopping them give a better result\n",
    "get_oob(x_train_new.drop([\"Grouser_Tracks\",\"fiModelDesc\",\"ProductGroupDesc\"],axis=1), y_train)"
   ]
  },
  {
   "cell_type": "code",
   "execution_count": 71,
   "metadata": {},
   "outputs": [
    {
     "data": {
      "text/plain": [
       "(404710, 19)"
      ]
     },
     "execution_count": 71,
     "metadata": {},
     "output_type": "execute_result"
    }
   ],
   "source": [
    "# better results\n",
    "x_train_final = x_train_new.drop([\"Grouser_Tracks\",\"fiModelDesc\",\"ProductGroupDesc\"],axis=1)\n",
    "x_val_final = x_val_new.drop([\"Grouser_Tracks\",\"fiModelDesc\",\"ProductGroupDesc\"],axis=1)\n",
    "x_train_final.shape"
   ]
  },
  {
   "cell_type": "code",
   "execution_count": 59,
   "metadata": {},
   "outputs": [
    {
     "name": "stderr",
     "output_type": "stream",
     "text": [
      "C:\\Users\\ivan_\\anaconda3\\lib\\site-packages\\sklearn\\base.py:445: UserWarning: X does not have valid feature names, but RandomForestRegressor was fitted with feature names\n",
      "  warnings.warn(\n"
     ]
    },
    {
     "name": "stdout",
     "output_type": "stream",
     "text": [
      "model 4 : Train root mean squered log error ----> 0.179852\n",
      "model 4 : Validation root mean squered log error ----> 0.236992\n"
     ]
    }
   ],
   "source": [
    "# Create the third randomForest\n",
    "model_4 = RandomForestRegressor(n_estimators=40,\n",
    "                                    max_samples=200_000,max_features=0.5,\n",
    "                                    min_samples_leaf=5,oob_score=True,n_jobs=-1)\n",
    "model_4.fit(x_train_final,y_train)\n",
    "# Check the errors\n",
    "err_train_model4 = m_rmse(model_4,x_train_final,y_train)\n",
    "err_val_model4 = m_rmse(model_4,x_val_final,y_val)\n",
    "print(\"model 4 : Train root mean squered log error ----> {}\".format(err_train_model4))\n",
    "print(\"model 4 : Validation root mean squered log error ----> {}\".format(err_val_model4))\n",
    "\n",
    "\"\"\"\n",
    "# save the final dataFrame -- optional\n",
    "    df_shelve = shelve.open(dataPath+\"data_final.db\")\n",
    "    \n",
    "    try:\n",
    "        df_shelve[\"x_train\"] = x_train_final\n",
    "        df_shelve[\"y_train\"] = y_train\n",
    "        df_shelve[\"x_val\"] = x_val_final\n",
    "        df_shelve[\"y_val\"] = y_val\n",
    "    finally:\n",
    "        df_shelve.close()\n",
    "\"\"\""
   ]
  },
  {
   "cell_type": "code",
   "execution_count": 60,
   "metadata": {},
   "outputs": [
    {
     "name": "stderr",
     "output_type": "stream",
     "text": [
      "C:\\Users\\ivan_\\anaconda3\\lib\\site-packages\\sklearn\\utils\\deprecation.py:87: FutureWarning: Function plot_partial_dependence is deprecated; Function `plot_partial_dependence` is deprecated in 1.0 and will be removed in 1.2. Use PartialDependenceDisplay.from_estimator instead\n",
      "  warnings.warn(msg, category=FutureWarning)\n"
     ]
    },
    {
     "data": {
      "text/plain": [
       "<sklearn.inspection._plot.partial_dependence.PartialDependenceDisplay at 0x1b99a2ccfd0>"
      ]
     },
     "execution_count": 60,
     "metadata": {},
     "output_type": "execute_result"
    },
    {
     "data": {
      "image/png": "[encoded data removed]",
      "text/plain": [
       "<Figure size 864x288 with 4 Axes>"
      ]
     },
     "metadata": {
      "needs_background": "light"
     },
     "output_type": "display_data"
    }
   ],
   "source": [
    "# Analysing Data Lakage\n",
    "fig, ax = plt.subplots(figsize=(12,4))\n",
    "plot_partial_dependence(model_4,x_val_final, [\"ProductSize\",\"YearMade\",\"Coupler_System\"],\n",
    "                            grid_resolution=20,ax=ax)"
   ]
  },
  {
   "cell_type": "code",
   "execution_count": 61,
   "metadata": {},
   "outputs": [
    {
     "name": "stderr",
     "output_type": "stream",
     "text": [
      "C:\\Users\\ivan_\\anaconda3\\lib\\site-packages\\sklearn\\base.py:445: UserWarning: X does not have valid feature names, but RandomForestRegressor was fitted with feature names\n",
      "  warnings.warn(\n"
     ]
    },
    {
     "data": {
      "text/html": [
       "<div>\n",
       "<style scoped>\n",
       "    .dataframe tbody tr th:only-of-type {\n",
       "        vertical-align: middle;\n",
       "    }\n",
       "\n",
       "    .dataframe tbody tr th {\n",
       "        vertical-align: top;\n",
       "    }\n",
       "\n",
       "    .dataframe thead th {\n",
       "        text-align: right;\n",
       "    }\n",
       "</style>\n",
       "<table border=\"1\" class=\"dataframe\">\n",
       "  <thead>\n",
       "    <tr style=\"text-align: right;\">\n",
       "      <th></th>\n",
       "      <th>cols</th>\n",
       "      <th>imp</th>\n",
       "    </tr>\n",
       "  </thead>\n",
       "  <tbody>\n",
       "    <tr>\n",
       "      <th>15</th>\n",
       "      <td>saledayYear</td>\n",
       "      <td>0.527090</td>\n",
       "    </tr>\n",
       "    <tr>\n",
       "      <th>2</th>\n",
       "      <td>saleyear</td>\n",
       "      <td>0.239460</td>\n",
       "    </tr>\n",
       "    <tr>\n",
       "      <th>9</th>\n",
       "      <td>SalesID</td>\n",
       "      <td>0.159683</td>\n",
       "    </tr>\n",
       "    <tr>\n",
       "      <th>11</th>\n",
       "      <td>MachineID</td>\n",
       "      <td>0.043816</td>\n",
       "    </tr>\n",
       "    <tr>\n",
       "      <th>18</th>\n",
       "      <td>saledayMonth</td>\n",
       "      <td>0.020673</td>\n",
       "    </tr>\n",
       "    <tr>\n",
       "      <th>17</th>\n",
       "      <td>state</td>\n",
       "      <td>0.003796</td>\n",
       "    </tr>\n",
       "  </tbody>\n",
       "</table>\n",
       "</div>"
      ],
      "text/plain": [
       "            cols       imp\n",
       "15   saledayYear  0.527090\n",
       "2       saleyear  0.239460\n",
       "9        SalesID  0.159683\n",
       "11     MachineID  0.043816\n",
       "18  saledayMonth  0.020673\n",
       "17         state  0.003796"
      ]
     },
     "execution_count": 61,
     "metadata": {},
     "output_type": "execute_result"
    }
   ],
   "source": [
    "# Finding out of the domain\n",
    "df_dom = pd.concat([x_train_final,x_val_final])\n",
    "isValid = np.array([0]*len(x_train_final)+[1]*len(x_val_final))\n",
    "    \n",
    "model_5 = RandomForestRegressor(n_estimators=40,\n",
    "                                    max_samples=210_000,max_features=0.5,\n",
    "                                    min_samples_leaf=5,oob_score=True,n_jobs=-1)\n",
    "model_5.fit(df_dom,isValid)\n",
    "# see feature importance\n",
    "f_importance_model_5 = f_importances_model(model_5, df_dom)\n",
    "f_importance_model_5.head(6)   "
   ]
  },
  {
   "cell_type": "code",
   "execution_count": 62,
   "metadata": {},
   "outputs": [
    {
     "name": "stderr",
     "output_type": "stream",
     "text": [
      "C:\\Users\\ivan_\\anaconda3\\lib\\site-packages\\sklearn\\base.py:445: UserWarning: X does not have valid feature names, but RandomForestRegressor was fitted with feature names\n",
      "  warnings.warn(\n"
     ]
    },
    {
     "name": "stdout",
     "output_type": "stream",
     "text": [
      "saleyear 0.239204\n"
     ]
    },
    {
     "name": "stderr",
     "output_type": "stream",
     "text": [
      "C:\\Users\\ivan_\\anaconda3\\lib\\site-packages\\sklearn\\base.py:445: UserWarning: X does not have valid feature names, but RandomForestRegressor was fitted with feature names\n",
      "  warnings.warn(\n"
     ]
    },
    {
     "name": "stdout",
     "output_type": "stream",
     "text": [
      "saledayYear 0.233794\n"
     ]
    },
    {
     "name": "stderr",
     "output_type": "stream",
     "text": [
      "C:\\Users\\ivan_\\anaconda3\\lib\\site-packages\\sklearn\\base.py:445: UserWarning: X does not have valid feature names, but RandomForestRegressor was fitted with feature names\n",
      "  warnings.warn(\n"
     ]
    },
    {
     "name": "stdout",
     "output_type": "stream",
     "text": [
      "SalesID 0.236075\n"
     ]
    },
    {
     "name": "stderr",
     "output_type": "stream",
     "text": [
      "C:\\Users\\ivan_\\anaconda3\\lib\\site-packages\\sklearn\\base.py:445: UserWarning: X does not have valid feature names, but RandomForestRegressor was fitted with feature names\n",
      "  warnings.warn(\n"
     ]
    },
    {
     "name": "stdout",
     "output_type": "stream",
     "text": [
      "MachineID 0.233487\n"
     ]
    }
   ],
   "source": [
    "# Check permormance dropping saleyear, saledayYear, SalesID, MachineID\n",
    "for col in (\"saleyear\", \"saledayYear\", \"SalesID\", \"MachineID\"):\n",
    "    model =  RandomForestRegressor(n_estimators=40,\n",
    "                                    max_samples=210_000,max_features=0.5,\n",
    "                                    min_samples_leaf=5,oob_score=True,n_jobs=-1)\n",
    "    model.fit(x_train_final.drop(col,axis=1),y_train)\n",
    "    print(col + \" {}\".format(m_rmse(model,x_val_final.drop(col,axis=1),y_val)))"
   ]
  },
  {
   "cell_type": "code",
   "execution_count": 74,
   "metadata": {},
   "outputs": [
    {
     "name": "stdout",
     "output_type": "stream",
     "text": [
      "(404710, 16)\n"
     ]
    },
    {
     "name": "stderr",
     "output_type": "stream",
     "text": [
      "C:\\Users\\ivan_\\anaconda3\\lib\\site-packages\\sklearn\\base.py:445: UserWarning: X does not have valid feature names, but RandomForestRegressor was fitted with feature names\n",
      "  warnings.warn(\n"
     ]
    },
    {
     "name": "stdout",
     "output_type": "stream",
     "text": [
      "model 6 : Train root mean squered log error ----> 0.188674\n",
      "model 6 : Validation root mean squered log error ----> 0.230425\n"
     ]
    }
   ],
   "source": [
    "# lets drop \"saledayYear\", \"SalesID\", \"MachineID\"\n",
    "x_train_final_time = x_train_final.drop([\"saledayYear\",\"SalesID\", \"MachineID\"],axis=1)\n",
    "x_val_final_time = x_val_final.drop([\"saledayYear\",\"SalesID\", \"MachineID\"],axis=1)\n",
    "print(x_train_final_time.shape)\n",
    "\n",
    "model_6 = RandomForestRegressor(n_estimators=40,\n",
    "                                    max_samples=200_000,max_features=0.5,\n",
    "                                    min_samples_leaf=5,oob_score=True,n_jobs=-1)\n",
    "model_6.fit(x_train_final_time,y_train) \n",
    "# Check the errors\n",
    "err_train_model6 = m_rmse(model_6,x_train_final_time,y_train)\n",
    "err_val_model6 = m_rmse(model_6,x_val_final_time,y_val)\n",
    "print(\"model 6 : Train root mean squered log error ----> {}\".format(err_train_model6))\n",
    "print(\"model 6 : Validation root mean squered log error ----> {}\".format(err_val_model6))\n",
    "    "
   ]
  },
  {
   "cell_type": "code",
   "execution_count": 65,
   "metadata": {},
   "outputs": [
    {
     "data": {
      "text/plain": [
       "(array([14444., 11822., 16459., 31660., 30208., 34840., 55596., 53893.,\n",
       "        83616., 72172.]),\n",
       " array([1989. , 1991.3, 1993.6, 1995.9, 1998.2, 2000.5, 2002.8, 2005.1,\n",
       "        2007.4, 2009.7, 2012. ]),\n",
       " <a list of 10 Patch objects>)"
      ]
     },
     "execution_count": 65,
     "metadata": {},
     "output_type": "execute_result"
    },
    {
     "data": {
      "image/png": "[encoded data removed]",
      "text/plain": [
       "<Figure size 864x288 with 1 Axes>"
      ]
     },
     "metadata": {
      "needs_background": "light"
     },
     "output_type": "display_data"
    }
   ],
   "source": [
    "# Check the distribution of the saleyear \n",
    "fig, ax = plt.subplots(figsize=(12,4))\n",
    "ax.hist(x_train_final_time[\"saleyear\"])"
   ]
  },
  {
   "cell_type": "code",
   "execution_count": 68,
   "metadata": {},
   "outputs": [
    {
     "name": "stderr",
     "output_type": "stream",
     "text": [
      "C:\\Users\\ivan_\\anaconda3\\lib\\site-packages\\sklearn\\base.py:445: UserWarning: X does not have valid feature names, but RandomForestRegressor was fitted with feature names\n",
      "  warnings.warn(\n"
     ]
    },
    {
     "name": "stdout",
     "output_type": "stream",
     "text": [
      "model 7 : Train root mean squered log error ----> 0.17504\n",
      "model 7 : Validation root mean squered log error ----> 0.229601\n"
     ]
    }
   ],
   "source": [
    "# Check if the permormance improve dropping saleyear<2004\n",
    "cond = (x_train_final_time[\"saleyear\"]>=2004)\n",
    "x_train_final_year = x_train_final_time[cond]\n",
    "y_train_year = y_train[cond]\n",
    "    \n",
    "model_7 = RandomForestRegressor(n_estimators=40,\n",
    "                                    max_samples=200_000,max_features=0.5,\n",
    "                                    min_samples_leaf=5,oob_score=True,n_jobs=-1)\n",
    "model_7.fit(x_train_final_year,y_train_year)\n",
    "# Check the errors\n",
    "err_train_model7 = m_rmse(model_7,x_train_final_year,y_train_year)\n",
    "err_val_model7 = m_rmse(model_7,x_val_final_time,y_val)\n",
    "print(\"model 7 : Train root mean squered log error ----> {}\".format(err_train_model7))\n",
    "print(\"model 7 : Validation root mean squered log error ----> {}\".format(err_val_model7)) # Best result"
   ]
  },
  {
   "cell_type": "markdown",
   "metadata": {},
   "source": [
    "### Summary Results \n",
    "\n",
    "\n",
    "| no. model   |  val error  |  no. features  |    \n",
    "| ----------- | ----------- |  ------------  |\n",
    "|      1      |  0.498266   |      57        |                \n",
    "|      2      |  0.235269   |      57        |\n",
    "|      3      |  0.235177   |      22        |\n",
    "|      4      |  0.236992   |      19        |\n",
    "|      6      |  0.231321   |      16        |\n",
    "|      7      |  0.229601   |      16        |\n",
    "\n",
    "\n",
    "\n",
    "\n"
   ]
  }
 ],
 "metadata": {
  "kernelspec": {
   "display_name": "Python 3",
   "language": "python",
   "name": "python3"
  },
  "language_info": {
   "codemirror_mode": {
    "name": "ipython",
    "version": 3
   },
   "file_extension": ".py",
   "mimetype": "text/x-python",
   "name": "python",
   "nbconvert_exporter": "python",
   "pygments_lexer": "ipython3",
   "version": "3.8.3"
  }
 },
 "nbformat": 4,
 "nbformat_minor": 4
}
